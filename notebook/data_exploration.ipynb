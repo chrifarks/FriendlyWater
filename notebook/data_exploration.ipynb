{
 "cells": [
  {
   "cell_type": "code",
   "execution_count": 30,
   "metadata": {
    "pycharm": {
     "is_executing": false,
     "name": "#%%\n"
    }
   },
   "outputs": [],
   "source": [
    "import os, sys\n",
    "from pathlib import Path\n",
    "sys.path.append(Path(os.getcwd()).absolute().parent)\n",
    "\n",
    "\n",
    "import conf\n",
    "import pandas as pd\n",
    "import yaml\n",
    "from friendlywater.water_stream import *\n",
    "from importlib.resources import open_text\n",
    "from typing import TextIO\n",
    "from pandas import DataFrame\n",
    "\n",
    "def load_csv(file: TextIO, cols) -> DataFrame:\n",
    "    return pd.read_csv(file, delimiter=';', names=cols, header=0)\n"
   ]
  },
  {
   "cell_type": "code",
   "execution_count": 31,
   "metadata": {
    "pycharm": {
     "name": "#%%\n"
    }
   },
   "outputs": [],
   "source": [
    "data = yaml.load(open_text(conf, 'application.yaml'), Loader=yaml.FullLoader)\n",
    "\n",
    "water_stream = WaterStream(\n",
    "    slope=data.get('stream').get('slope'),\n",
    "    conveyance=data.get('stream').get('conveyance'),\n",
    "    delta_t=data.get('stream').get('delta_t'),\n",
    "    delta_x=data.get('stream').get('delta_x')\n",
    ")\n",
    "water_channel = WaterChannel(\n",
    "    length_in_meters=data.get('channel').get('length'),\n",
    "    height_in_meters=data.get('channel').get('height'),\n",
    "    width_in_meters=data.get('channel').get('width')\n",
    ")\n",
    "\n",
    "initial = load_csv(file=open_text(conf, 'initial_conditions.csv'),\n",
    "                   cols=['time', 'q0', 'h0'])\n",
    "\n",
    "bound_left = load_csv(file=open_text(conf, 'boundaries_left.csv'),\n",
    "                      cols=['time', 'q_left', 'h_left'])\n",
    "\n",
    "bound_right = load_csv(file=open_text(conf, 'boundaries_right.csv'),\n",
    "                       cols=['time', 'q_right', 'h_right'])\n",
    "\n",
    "boundaries = pd.DataFrame({\n",
    "    'time': bound_left['time'],\n",
    "    'q_left': bound_left['q_left'],\n",
    "    'q_right': bound_right['q_right'],\n",
    "    'h_left': bound_left['h_left'],\n",
    "    'h_right': bound_right['h_right']\n",
    "})"
   ]
  },
  {
   "cell_type": "code",
   "execution_count": 32,
   "metadata": {},
   "outputs": [
    {
     "data": {
      "text/html": [
       "<div>\n",
       "<style scoped>\n",
       "    .dataframe tbody tr th:only-of-type {\n",
       "        vertical-align: middle;\n",
       "    }\n",
       "\n",
       "    .dataframe tbody tr th {\n",
       "        vertical-align: top;\n",
       "    }\n",
       "\n",
       "    .dataframe thead th {\n",
       "        text-align: right;\n",
       "    }\n",
       "</style>\n",
       "<table border=\"1\" class=\"dataframe\">\n",
       "  <thead>\n",
       "    <tr style=\"text-align: right;\">\n",
       "      <th></th>\n",
       "      <th>time</th>\n",
       "      <th>q_left</th>\n",
       "      <th>q_right</th>\n",
       "      <th>h_left</th>\n",
       "      <th>h_right</th>\n",
       "    </tr>\n",
       "  </thead>\n",
       "  <tbody>\n",
       "    <tr>\n",
       "      <th>0</th>\n",
       "      <td>0</td>\n",
       "      <td>2</td>\n",
       "      <td>0</td>\n",
       "      <td>NaN</td>\n",
       "      <td>1</td>\n",
       "    </tr>\n",
       "    <tr>\n",
       "      <th>1</th>\n",
       "      <td>1</td>\n",
       "      <td>2</td>\n",
       "      <td>0</td>\n",
       "      <td>NaN</td>\n",
       "      <td>1</td>\n",
       "    </tr>\n",
       "    <tr>\n",
       "      <th>2</th>\n",
       "      <td>2</td>\n",
       "      <td>4</td>\n",
       "      <td>0</td>\n",
       "      <td>NaN</td>\n",
       "      <td>1</td>\n",
       "    </tr>\n",
       "    <tr>\n",
       "      <th>3</th>\n",
       "      <td>3</td>\n",
       "      <td>2</td>\n",
       "      <td>0</td>\n",
       "      <td>NaN</td>\n",
       "      <td>1</td>\n",
       "    </tr>\n",
       "    <tr>\n",
       "      <th>4</th>\n",
       "      <td>4</td>\n",
       "      <td>2</td>\n",
       "      <td>0</td>\n",
       "      <td>NaN</td>\n",
       "      <td>1</td>\n",
       "    </tr>\n",
       "  </tbody>\n",
       "</table>\n",
       "</div>"
      ],
      "text/plain": [
       "   time  q_left  q_right  h_left  h_right\n",
       "0     0       2        0     NaN        1\n",
       "1     1       2        0     NaN        1\n",
       "2     2       4        0     NaN        1\n",
       "3     3       2        0     NaN        1\n",
       "4     4       2        0     NaN        1"
      ]
     },
     "execution_count": 32,
     "metadata": {},
     "output_type": "execute_result"
    }
   ],
   "source": [
    "boundaries.head()"
   ]
  },
  {
   "cell_type": "code",
   "execution_count": null,
   "metadata": {},
   "outputs": [],
   "source": []
  }
 ],
 "metadata": {
  "kernelspec": {
   "display_name": "Python 3",
   "language": "python",
   "name": "python3"
  },
  "language_info": {
   "codemirror_mode": {
    "name": "ipython",
    "version": 3
   },
   "file_extension": ".py",
   "mimetype": "text/x-python",
   "name": "python",
   "nbconvert_exporter": "python",
   "pygments_lexer": "ipython3",
   "version": "3.7.6"
  },
  "pycharm": {
   "stem_cell": {
    "cell_type": "raw",
    "source": [],
    "metadata": {
     "collapsed": false
    }
   }
  }
 },
 "nbformat": 4,
 "nbformat_minor": 1
}