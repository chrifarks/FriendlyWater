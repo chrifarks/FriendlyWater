{
 "cells": [
  {
   "cell_type": "code",
   "execution_count": 8,
   "metadata": {
    "pycharm": {
     "is_executing": false,
     "name": "#%%\n"
    }
   },
   "outputs": [],
   "source": [
    "import pandas as pd\n",
    "import conf\n",
    "import yaml\n",
    "from friendlywater.water_stream import *\n",
    "from importlib.resources import open_text\n",
    "from typing import TextIO\n",
    "from pandas import DataFrame\n",
    "\n",
    "\n",
    "def load_csv(file: TextIO, cols) -> DataFrame:\n",
    "    try:\n",
    "        return pd.read_csv(file, delimiter=';', header=0,\n",
    "                           names=cols,\n",
    "                           dtype={\n",
    "                                cols[0]: \"float64\",\n",
    "                                cols[1]: \"float64\",\n",
    "                                cols[2]: \"float64\"\n",
    "                            })\n",
    "    except (TypeError, ValueError) as ex:\n",
    "        print(\"Invalid data on {filename} - Some of the columns contain strings\"\n",
    "              .format(filename=file.name))\n",
    "        exit(1)"
   ]
  },
  {
   "cell_type": "code",
   "execution_count": 10,
   "metadata": {
    "pycharm": {
     "is_executing": false,
     "name": "#%%\n"
    }
   },
   "outputs": [],
   "source": [
    "data = yaml.load(open_text(conf, 'application.yaml'), Loader=yaml.FullLoader)\n",
    "\n",
    "water_stream = WaterStream(\n",
    "    slope=data.get('stream').get('slope'),\n",
    "    conveyance=data.get('stream').get('conveyance'),\n",
    "    delta_t=data.get('stream').get('delta_t'),\n",
    "    delta_x=data.get('stream').get('delta_x')\n",
    ")\n",
    "water_channel = WaterChannel(\n",
    "    length_in_meters=data.get('channel').get('length'),\n",
    "    height_in_meters=data.get('channel').get('height'),\n",
    "    width_in_meters=data.get('channel').get('width')\n",
    ")\n",
    "\n",
    "initial = load_csv(file=open_text(conf, 'initial_conditions.csv'),\n",
    "                   cols=['time', 'q0', 'h0'])\n",
    "\n",
    "bound_left = load_csv(file=open_text(conf, 'boundaries_left.csv'),\n",
    "                      cols=['time', 'q_left', 'h_left'])\n",
    "\n",
    "bound_right = load_csv(file=open_text(conf, 'boundaries_right.csv'),\n",
    "                       cols=['time', 'q_right', 'h_right'])\n",
    "\n",
    "boundaries = pd.DataFrame({\n",
    "    'time': bound_left['time'],\n",
    "    'q_left': bound_left['q_left'],\n",
    "    'q_right': bound_right['q_right'],\n",
    "    'h_left': bound_left['h_left'],\n",
    "    'h_right': bound_right['h_right']\n",
    "})\n"
   ]
  },
  {
   "cell_type": "code",
   "execution_count": 11,
   "metadata": {
    "pycharm": {
     "is_executing": false,
     "name": "#%%\n"
    }
   },
   "outputs": [
    {
     "data": {
      "text/plain": [
       "time       float64\n",
       "q_left     float64\n",
       "q_right    float64\n",
       "h_left     float64\n",
       "h_right    float64\n",
       "dtype: object"
      ]
     },
     "execution_count": 11,
     "metadata": {},
     "output_type": "execute_result"
    }
   ],
   "source": [
    "boundaries.dtypes"
   ]
  },
  {
   "cell_type": "code",
   "execution_count": 12,
   "metadata": {
    "pycharm": {
     "name": "#%%\n"
    }
   },
   "outputs": [
    {
     "data": {
      "text/html": [
       "<div>\n",
       "<style scoped>\n",
       "    .dataframe tbody tr th:only-of-type {\n",
       "        vertical-align: middle;\n",
       "    }\n",
       "\n",
       "    .dataframe tbody tr th {\n",
       "        vertical-align: top;\n",
       "    }\n",
       "\n",
       "    .dataframe thead th {\n",
       "        text-align: right;\n",
       "    }\n",
       "</style>\n",
       "<table border=\"1\" class=\"dataframe\">\n",
       "  <thead>\n",
       "    <tr style=\"text-align: right;\">\n",
       "      <th></th>\n",
       "      <th>time</th>\n",
       "      <th>q_left</th>\n",
       "      <th>q_right</th>\n",
       "      <th>h_left</th>\n",
       "      <th>h_right</th>\n",
       "    </tr>\n",
       "  </thead>\n",
       "  <tbody>\n",
       "    <tr>\n",
       "      <th>0</th>\n",
       "      <td>0.0</td>\n",
       "      <td>2.0</td>\n",
       "      <td>0.0</td>\n",
       "      <td>NaN</td>\n",
       "      <td>1.0</td>\n",
       "    </tr>\n",
       "    <tr>\n",
       "      <th>1</th>\n",
       "      <td>1.0</td>\n",
       "      <td>2.0</td>\n",
       "      <td>0.0</td>\n",
       "      <td>NaN</td>\n",
       "      <td>1.0</td>\n",
       "    </tr>\n",
       "    <tr>\n",
       "      <th>2</th>\n",
       "      <td>2.0</td>\n",
       "      <td>4.0</td>\n",
       "      <td>0.0</td>\n",
       "      <td>NaN</td>\n",
       "      <td>1.0</td>\n",
       "    </tr>\n",
       "    <tr>\n",
       "      <th>3</th>\n",
       "      <td>3.0</td>\n",
       "      <td>2.0</td>\n",
       "      <td>0.0</td>\n",
       "      <td>NaN</td>\n",
       "      <td>1.0</td>\n",
       "    </tr>\n",
       "    <tr>\n",
       "      <th>4</th>\n",
       "      <td>4.0</td>\n",
       "      <td>2.0</td>\n",
       "      <td>0.0</td>\n",
       "      <td>NaN</td>\n",
       "      <td>1.0</td>\n",
       "    </tr>\n",
       "    <tr>\n",
       "      <th>5</th>\n",
       "      <td>5.0</td>\n",
       "      <td>2.0</td>\n",
       "      <td>0.0</td>\n",
       "      <td>NaN</td>\n",
       "      <td>1.0</td>\n",
       "    </tr>\n",
       "    <tr>\n",
       "      <th>6</th>\n",
       "      <td>6.0</td>\n",
       "      <td>4.0</td>\n",
       "      <td>0.0</td>\n",
       "      <td>NaN</td>\n",
       "      <td>1.0</td>\n",
       "    </tr>\n",
       "    <tr>\n",
       "      <th>7</th>\n",
       "      <td>7.0</td>\n",
       "      <td>3.0</td>\n",
       "      <td>0.0</td>\n",
       "      <td>NaN</td>\n",
       "      <td>1.0</td>\n",
       "    </tr>\n",
       "    <tr>\n",
       "      <th>8</th>\n",
       "      <td>8.0</td>\n",
       "      <td>3.0</td>\n",
       "      <td>0.0</td>\n",
       "      <td>NaN</td>\n",
       "      <td>1.0</td>\n",
       "    </tr>\n",
       "    <tr>\n",
       "      <th>9</th>\n",
       "      <td>9.0</td>\n",
       "      <td>2.0</td>\n",
       "      <td>0.0</td>\n",
       "      <td>NaN</td>\n",
       "      <td>1.0</td>\n",
       "    </tr>\n",
       "  </tbody>\n",
       "</table>\n",
       "</div>"
      ],
      "text/plain": [
       "   time  q_left  q_right  h_left  h_right\n",
       "0   0.0     2.0      0.0     NaN      1.0\n",
       "1   1.0     2.0      0.0     NaN      1.0\n",
       "2   2.0     4.0      0.0     NaN      1.0\n",
       "3   3.0     2.0      0.0     NaN      1.0\n",
       "4   4.0     2.0      0.0     NaN      1.0\n",
       "5   5.0     2.0      0.0     NaN      1.0\n",
       "6   6.0     4.0      0.0     NaN      1.0\n",
       "7   7.0     3.0      0.0     NaN      1.0\n",
       "8   8.0     3.0      0.0     NaN      1.0\n",
       "9   9.0     2.0      0.0     NaN      1.0"
      ]
     },
     "execution_count": 12,
     "metadata": {},
     "output_type": "execute_result"
    }
   ],
   "source": [
    "boundaries.head(10)"
   ]
  },
  {
   "cell_type": "code",
   "execution_count": null,
   "metadata": {},
   "outputs": [],
   "source": []
  }
 ],
 "metadata": {
  "kernelspec": {
   "display_name": "Python 3",
   "language": "python",
   "name": "python3"
  },
  "language_info": {
   "codemirror_mode": {
    "name": "ipython",
    "version": 3
   },
   "file_extension": ".py",
   "mimetype": "text/x-python",
   "name": "python",
   "nbconvert_exporter": "python",
   "pygments_lexer": "ipython3",
   "version": "3.7.6"
  },
  "pycharm": {
   "stem_cell": {
    "cell_type": "raw",
    "source": [],
    "metadata": {
     "collapsed": false
    }
   }
  }
 },
 "nbformat": 4,
 "nbformat_minor": 1
}